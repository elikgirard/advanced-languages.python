{
 "cells": [
  {
   "cell_type": "code",
   "execution_count": null,
   "id": "16a33be0-74b4-4b04-b8c3-2044e1a7bb02",
   "metadata": {
    "panel-layout": {
     "height": 0,
     "visible": true,
     "width": 100
    }
   },
   "outputs": [],
   "source": [
    "print(42 == 42)\n",
    "print(42 != '42')\n",
    "print(42 == '42')"
   ]
  },
  {
   "cell_type": "code",
   "execution_count": 3,
   "id": "b117bbdc-b324-4482-a2ff-be676d34d1fe",
   "metadata": {},
   "outputs": [
    {
     "data": {
      "text/plain": [
       "False"
      ]
     },
     "execution_count": 3,
     "metadata": {},
     "output_type": "execute_result"
    }
   ],
   "source": [
    "(5<6) and (6<5)"
   ]
  },
  {
   "cell_type": "code",
   "execution_count": 11,
   "id": "5776fcf6-ffe9-4d49-b115-80454433f237",
   "metadata": {},
   "outputs": [
    {
     "data": {
      "text/plain": [
       "True"
      ]
     },
     "execution_count": 11,
     "metadata": {},
     "output_type": "execute_result"
    }
   ],
   "source": [
    "(5<6) or (6<5)"
   ]
  },
  {
   "cell_type": "code",
   "execution_count": 19,
   "id": "cf8b4a34-32ca-44d4-9265-212fc785c26e",
   "metadata": {},
   "outputs": [
    {
     "data": {
      "text/plain": [
       "False"
      ]
     },
     "execution_count": 19,
     "metadata": {},
     "output_type": "execute_result"
    }
   ],
   "source": [
    "(7<6) and (6<5)"
   ]
  },
  {
   "cell_type": "code",
   "execution_count": 31,
   "id": "b72ed682-fa15-48c4-b26e-92d663d270f1",
   "metadata": {},
   "outputs": [
    {
     "name": "stdin",
     "output_type": "stream",
     "text": [
      " john\n"
     ]
    },
    {
     "name": "stdout",
     "output_type": "stream",
     "text": [
      "Enter your password\n",
      "ID is correct\n",
      "Password is not correct\n"
     ]
    }
   ],
   "source": [
    "ID = 'apple'\n",
    "Password = input()\n",
    "print('Enter your password')\n",
    "\n",
    "if ID == 'apple':\n",
    "    print('ID is correct')\n",
    "    if Password == 'apple1':\n",
    "        print('Password is correct')\n",
    "    else:\n",
    "        print('Password is not correct')"
   ]
  },
  {
   "cell_type": "code",
   "execution_count": null,
   "id": "16ac2026-a660-453a-a730-02d1870e6b70",
   "metadata": {},
   "outputs": [],
   "source": [
    "grade = input()\n",
    "print(\"Your score is \" + grade)\n",
    "\n",
    "if int(grade) >= 90:\n",
    "    print('Your grade is A')\n",
    "elif int(grade) < 90 and int(grade) >= 80:\n",
    "    print('Your grade is B')\n",
    "elif int(grade) < 80 and int(grade) >= 70:\n",
    "    print('Your grade is C')\n",
    "else:\n",
    "    print('Your grade is D')\n",
    "\n"
   ]
  },
  {
   "cell_type": "code",
   "execution_count": null,
   "id": "269edb01-052c-4886-b00c-8204ce2fd2c9",
   "metadata": {},
   "outputs": [],
   "source": []
  },
  {
   "cell_type": "code",
   "execution_count": null,
   "id": "846d0a15-8b8b-4637-8da6-367b6418d03a",
   "metadata": {},
   "outputs": [],
   "source": []
  },
  {
   "cell_type": "code",
   "execution_count": null,
   "id": "42ad256e-ae4b-48a1-9ebb-b680293bf66d",
   "metadata": {},
   "outputs": [],
   "source": []
  },
  {
   "cell_type": "code",
   "execution_count": null,
   "id": "1b2d5934-3dc0-4e3e-a666-9c3c65d1ca54",
   "metadata": {},
   "outputs": [],
   "source": []
  },
  {
   "cell_type": "code",
   "execution_count": null,
   "id": "58e1ca62-e968-491f-b9b2-d4af386aa1c2",
   "metadata": {},
   "outputs": [],
   "source": []
  }
 ],
 "metadata": {
  "kernelspec": {
   "display_name": "Python [conda env:base] *",
   "language": "python",
   "name": "conda-base-py"
  },
  "language_info": {
   "codemirror_mode": {
    "name": "ipython",
    "version": 3
   },
   "file_extension": ".py",
   "mimetype": "text/x-python",
   "name": "python",
   "nbconvert_exporter": "python",
   "pygments_lexer": "ipython3",
   "version": "3.12.7"
  },
  "panel-cell-order": [
   "16a33be0-74b4-4b04-b8c3-2044e1a7bb02"
  ]
 },
 "nbformat": 4,
 "nbformat_minor": 5
}
