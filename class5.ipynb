{
 "cells": [
  {
   "cell_type": "code",
   "execution_count": 11,
   "id": "49204876-ef05-40e3-89e1-1cd8590b36d1",
   "metadata": {},
   "outputs": [
    {
     "name": "stdout",
     "output_type": "stream",
     "text": [
      "i is 1 k is 1 Results = 1\n",
      "i is 1 k is 2 Results = 2\n",
      "i is 1 k is 3 Results = 3\n",
      "i is 1 k is 4 Results = 4\n",
      "i is 1 k is 5 Results = 5\n",
      "i is 1 k is 6 Results = 6\n",
      "i is 1 k is 7 Results = 7\n",
      "i is 1 k is 8 Results = 8\n",
      "i is 1 k is 9 Results = 9\n",
      "i is 2 k is 1 Results = 2\n",
      "i is 2 k is 2 Results = 4\n",
      "i is 2 k is 3 Results = 6\n",
      "i is 2 k is 4 Results = 8\n",
      "i is 2 k is 5 Results = 10\n",
      "i is 2 k is 6 Results = 12\n",
      "i is 2 k is 7 Results = 14\n",
      "i is 2 k is 8 Results = 16\n",
      "i is 2 k is 9 Results = 18\n",
      "i is 3 k is 1 Results = 3\n",
      "i is 3 k is 2 Results = 6\n",
      "i is 3 k is 3 Results = 9\n",
      "i is 3 k is 4 Results = 12\n",
      "i is 3 k is 5 Results = 15\n",
      "i is 3 k is 6 Results = 18\n",
      "i is 3 k is 7 Results = 21\n",
      "i is 3 k is 8 Results = 24\n",
      "i is 3 k is 9 Results = 27\n",
      "i is 4 k is 1 Results = 4\n",
      "i is 4 k is 2 Results = 8\n",
      "i is 4 k is 3 Results = 12\n",
      "i is 4 k is 4 Results = 16\n",
      "i is 4 k is 5 Results = 20\n",
      "i is 4 k is 6 Results = 24\n",
      "i is 4 k is 7 Results = 28\n",
      "i is 4 k is 8 Results = 32\n",
      "i is 4 k is 9 Results = 36\n"
     ]
    }
   ],
   "source": [
    "for i in range(1,10):\n",
    "\n",
    "    if i == 5:\n",
    "        break\n",
    "\n",
    "    for k in range(1,10):\n",
    "        print(\"i is\", i, \"k is\", k, \"Results =\", i*k)\n",
    "        "
   ]
  },
  {
   "cell_type": "code",
   "execution_count": 21,
   "id": "53560b55-dc8d-4047-a81b-a37837cdead3",
   "metadata": {},
   "outputs": [
    {
     "name": "stdout",
     "output_type": "stream",
     "text": [
      "20\n",
      "10\n"
     ]
    }
   ],
   "source": [
    "def spam():\n",
    "    eggs = 20 #local variable\n",
    "    print(eggs) #prints '20'\n",
    "\n",
    "eggs = 42 #global variable\n",
    "spam()\n",
    "\n",
    "eggs = 10\n",
    "print(eggs) #prints '10'"
   ]
  },
  {
   "cell_type": "code",
   "execution_count": 34,
   "id": "d735f309-2b72-41f6-bc7b-e2aab7a1a348",
   "metadata": {},
   "outputs": [
    {
     "name": "stdout",
     "output_type": "stream",
     "text": [
      "21.0\n",
      "3.5\n",
      "Error, You cannot divide something by zero\n",
      "0\n",
      "42.0\n"
     ]
    }
   ],
   "source": [
    "def spam(num):\n",
    "    result = 0\n",
    "    try:\n",
    "        result = 42/num\n",
    "    except:\n",
    "        print(\"Error, You cannot divide something by zero\")\n",
    "    return result\n",
    "\n",
    "print(spam(2))\n",
    "print(spam(12))\n",
    "print(spam(0))\n",
    "print(spam(1))"
   ]
  },
  {
   "cell_type": "code",
   "execution_count": 48,
   "id": "bb01e8d3-8b8b-40e5-b216-b62ff4c48eb7",
   "metadata": {},
   "outputs": [
    {
     "name": "stdin",
     "output_type": "stream",
     "text": [
      "Enter one integer whatever you want 100\n"
     ]
    },
    {
     "name": "stdout",
     "output_type": "stream",
     "text": [
      "50\n",
      "25\n",
      "76\n",
      "38\n",
      "19\n",
      "58\n",
      "29\n",
      "88\n",
      "44\n",
      "22\n",
      "11\n",
      "34\n",
      "17\n",
      "52\n",
      "26\n",
      "13\n",
      "40\n",
      "20\n",
      "10\n",
      "5\n",
      "16\n",
      "8\n",
      "4\n",
      "2\n",
      "1\n"
     ]
    }
   ],
   "source": [
    "def collatz(num):\n",
    "    if num % 2 == 0:\n",
    "        result = num//2\n",
    "    else:\n",
    "        result = (3*num) + 1\n",
    "    print(result)\n",
    "    return result\n",
    "try:\n",
    "    num = int(input(\"Enter one integer whatever you want\"))\n",
    "    while num !=1:\n",
    "        num = collatz(num)\n",
    "except:\n",
    "    print(\"Invalid Value\")"
   ]
  },
  {
   "cell_type": "code",
   "execution_count": null,
   "id": "fa1292fe-0874-4e8f-9f59-e7ebd6398365",
   "metadata": {},
   "outputs": [],
   "source": []
  }
 ],
 "metadata": {
  "kernelspec": {
   "display_name": "Python [conda env:base] *",
   "language": "python",
   "name": "conda-base-py"
  },
  "language_info": {
   "codemirror_mode": {
    "name": "ipython",
    "version": 3
   },
   "file_extension": ".py",
   "mimetype": "text/x-python",
   "name": "python",
   "nbconvert_exporter": "python",
   "pygments_lexer": "ipython3",
   "version": "3.12.7"
  }
 },
 "nbformat": 4,
 "nbformat_minor": 5
}
