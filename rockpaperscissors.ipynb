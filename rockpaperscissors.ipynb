{
 "cells": [
  {
   "cell_type": "code",
   "execution_count": 58,
   "id": "f2d914d6-dfd7-4ccb-badb-6c4d7dd5d017",
   "metadata": {},
   "outputs": [
    {
     "name": "stdout",
     "output_type": "stream",
     "text": [
      "The game is Rock, Paper, and Scissors\n"
     ]
    }
   ],
   "source": [
    "import random, sys\n",
    "\n",
    "print(\"The game is Rock, Paper, and Scissors\")"
   ]
  },
  {
   "cell_type": "code",
   "execution_count": 60,
   "id": "3796ca29-fe3a-4e3c-9fc2-a98fbd5b465d",
   "metadata": {},
   "outputs": [],
   "source": [
    "wins = 0\n",
    "losses = 0\n",
    "ties = 0"
   ]
  },
  {
   "cell_type": "code",
   "execution_count": 62,
   "id": "7bc38a98-4f9c-4e3c-a958-2503a4fcad68",
   "metadata": {},
   "outputs": [
    {
     "name": "stdout",
     "output_type": "stream",
     "text": [
      "How many times you won 0\n",
      "How many times you loss 0\n",
      "How many times you tied 0\n",
      "Enter your movement: (r)ock (p)aper (s)cissors or (q)uit\n"
     ]
    },
    {
     "name": "stdin",
     "output_type": "stream",
     "text": [
      " r\n"
     ]
    },
    {
     "name": "stdout",
     "output_type": "stream",
     "text": [
      "You're good\n",
      "Type one of r, p, s, or q\n",
      "Rock versus\n",
      "Computer move is p\n",
      "You lose\n",
      "How many times you won 0\n",
      "How many times you loss 1\n",
      "How many times you tied 0\n",
      "Enter your movement: (r)ock (p)aper (s)cissors or (q)uit\n"
     ]
    },
    {
     "name": "stdin",
     "output_type": "stream",
     "text": [
      " p\n"
     ]
    },
    {
     "name": "stdout",
     "output_type": "stream",
     "text": [
      "You're good\n",
      "Type one of r, p, s, or q\n",
      "Paper versus\n",
      "Computer move is r\n",
      "You win\n",
      "How many times you won 1\n",
      "How many times you loss 1\n",
      "How many times you tied 0\n",
      "Enter your movement: (r)ock (p)aper (s)cissors or (q)uit\n"
     ]
    },
    {
     "name": "stdin",
     "output_type": "stream",
     "text": [
      " r\n"
     ]
    },
    {
     "name": "stdout",
     "output_type": "stream",
     "text": [
      "You're good\n",
      "Type one of r, p, s, or q\n",
      "Rock versus\n",
      "Computer move is p\n",
      "You lose\n",
      "How many times you won 1\n",
      "How many times you loss 2\n",
      "How many times you tied 0\n",
      "Enter your movement: (r)ock (p)aper (s)cissors or (q)uit\n"
     ]
    },
    {
     "name": "stdin",
     "output_type": "stream",
     "text": [
      " r\n"
     ]
    },
    {
     "name": "stdout",
     "output_type": "stream",
     "text": [
      "You're good\n",
      "Type one of r, p, s, or q\n",
      "Rock versus\n",
      "Computer move is s\n",
      "You win\n",
      "How many times you won 2\n",
      "How many times you loss 2\n",
      "How many times you tied 0\n",
      "Enter your movement: (r)ock (p)aper (s)cissors or (q)uit\n"
     ]
    },
    {
     "name": "stdin",
     "output_type": "stream",
     "text": [
      " r\n"
     ]
    },
    {
     "name": "stdout",
     "output_type": "stream",
     "text": [
      "You're good\n",
      "Type one of r, p, s, or q\n",
      "Rock versus\n",
      "Computer move is s\n",
      "You win\n",
      "How many times you won 3\n",
      "How many times you loss 2\n",
      "How many times you tied 0\n",
      "Enter your movement: (r)ock (p)aper (s)cissors or (q)uit\n"
     ]
    },
    {
     "name": "stdin",
     "output_type": "stream",
     "text": [
      " r\n"
     ]
    },
    {
     "name": "stdout",
     "output_type": "stream",
     "text": [
      "You're good\n",
      "Type one of r, p, s, or q\n",
      "Rock versus\n",
      "Computer move is r\n",
      "Tie\n",
      "How many times you won 3\n",
      "How many times you loss 2\n",
      "How many times you tied 1\n",
      "Enter your movement: (r)ock (p)aper (s)cissors or (q)uit\n"
     ]
    },
    {
     "name": "stdin",
     "output_type": "stream",
     "text": [
      " s\n"
     ]
    },
    {
     "name": "stdout",
     "output_type": "stream",
     "text": [
      "You're good\n",
      "Type one of r, p, s, or q\n",
      "Scissors versus\n",
      "Computer move is s\n",
      "Tie\n",
      "How many times you won 3\n",
      "How many times you loss 2\n",
      "How many times you tied 2\n",
      "Enter your movement: (r)ock (p)aper (s)cissors or (q)uit\n"
     ]
    },
    {
     "name": "stdin",
     "output_type": "stream",
     "text": [
      " r\n"
     ]
    },
    {
     "name": "stdout",
     "output_type": "stream",
     "text": [
      "You're good\n",
      "Type one of r, p, s, or q\n",
      "Rock versus\n",
      "Computer move is r\n",
      "Tie\n",
      "How many times you won 3\n",
      "How many times you loss 2\n",
      "How many times you tied 3\n",
      "Enter your movement: (r)ock (p)aper (s)cissors or (q)uit\n"
     ]
    },
    {
     "name": "stdin",
     "output_type": "stream",
     "text": [
      " q\n"
     ]
    },
    {
     "ename": "SystemExit",
     "evalue": "",
     "output_type": "error",
     "traceback": [
      "An exception has occurred, use %tb to see the full traceback.\n",
      "\u001b[1;31mSystemExit\u001b[0m\n"
     ]
    }
   ],
   "source": [
    "while True:\n",
    "    print(\"How many times you won \" + str(wins))\n",
    "    print(\"How many times you loss \" + str(losses))\n",
    "    print(\"How many times you tied \" + str(ties))\n",
    "    \n",
    "    \n",
    "    print(\"Enter your movement: (r)ock (p)aper (s)cissors or (q)uit\")\n",
    "    yourmove = input()\n",
    "    if yourmove == 'q':\n",
    "        sys.exit()\n",
    "    if yourmove == 'r' or yourmove == 'p' or yourmove == 's':\n",
    "        print(\"You're good\")\n",
    "\n",
    "    print(\"Type one of r, p, s, or q\")\n",
    "\n",
    "    if yourmove == 'r':\n",
    "        print(\"Rock versus\")\n",
    "    elif yourmove == 's':\n",
    "        print(\"Scissors versus\")\n",
    "    elif yourmove == 'p':\n",
    "        print(\"Paper versus\")\n",
    "\n",
    "    randomnum = random.randint(1,3)\n",
    "\n",
    "    if randomnum == 1:\n",
    "        computermove = 'r'\n",
    "        print(\"Computer move is r\")\n",
    "    elif randomnum == 2:\n",
    "        computermove = 's'\n",
    "        print(\"Computer move is s\")\n",
    "    elif randomnum == 3:\n",
    "        computermove = 'p'\n",
    "        print(\"Computer move is p\")\n",
    "\n",
    "    if yourmove == computermove:\n",
    "        print(\"Tie\")\n",
    "        ties = ties + 1\n",
    "    elif yourmove == 'r' and computermove == 's':\n",
    "        print(\"You win\")\n",
    "        wins = wins + 1\n",
    "    elif yourmove == 'r' and computermove == 'p':\n",
    "        print(\"You lose\")\n",
    "        losses = losses + 1\n",
    "    elif yourmove == 's' and computermove == 'r':\n",
    "        print(\"You lose\")\n",
    "        losses = losses + 1\n",
    "    elif yourmove == 's' and computermove == 'p':\n",
    "        print(\"You win\")\n",
    "        wins = wins + 1\n",
    "    elif yourmove == 'p' and computermove == 'r':\n",
    "        print(\"You win\")\n",
    "        wins = wins + 1\n",
    "    elif yourmove == 'p' and computermove == 's':\n",
    "        print(\"You lose\")\n",
    "        losses = losses + 1\n",
    "        "
   ]
  },
  {
   "cell_type": "code",
   "execution_count": null,
   "id": "f503a86e-9acc-4c09-807b-a521a7f6d897",
   "metadata": {},
   "outputs": [],
   "source": []
  },
  {
   "cell_type": "code",
   "execution_count": null,
   "id": "f26fc79a-c317-45ee-9513-1e05571d7edb",
   "metadata": {},
   "outputs": [],
   "source": []
  },
  {
   "cell_type": "code",
   "execution_count": null,
   "id": "877a6b0a-ea36-403d-9a48-819c429858ad",
   "metadata": {},
   "outputs": [],
   "source": []
  },
  {
   "cell_type": "code",
   "execution_count": null,
   "id": "5f28c04e-9de5-48af-bdd4-8b44b2659861",
   "metadata": {},
   "outputs": [],
   "source": []
  },
  {
   "cell_type": "code",
   "execution_count": null,
   "id": "6cdbb942-2340-475a-adbe-5b4d9323f348",
   "metadata": {},
   "outputs": [],
   "source": []
  },
  {
   "cell_type": "code",
   "execution_count": null,
   "id": "ce66c1b4-391d-4497-b240-ff8ed0cdf345",
   "metadata": {},
   "outputs": [],
   "source": []
  },
  {
   "cell_type": "code",
   "execution_count": null,
   "id": "f02d7fbc-4c07-45a7-97f5-83076f34d269",
   "metadata": {},
   "outputs": [],
   "source": []
  },
  {
   "cell_type": "code",
   "execution_count": null,
   "id": "095e397a-33d7-46a5-9d1c-eac5361271d1",
   "metadata": {},
   "outputs": [],
   "source": []
  },
  {
   "cell_type": "code",
   "execution_count": null,
   "id": "1d40c5fa-85d8-4534-8f2b-7e3787332d36",
   "metadata": {},
   "outputs": [],
   "source": []
  },
  {
   "cell_type": "code",
   "execution_count": null,
   "id": "e9e63059-cdbf-4779-9beb-88541966ea48",
   "metadata": {},
   "outputs": [],
   "source": []
  }
 ],
 "metadata": {
  "kernelspec": {
   "display_name": "Python [conda env:base] *",
   "language": "python",
   "name": "conda-base-py"
  },
  "language_info": {
   "codemirror_mode": {
    "name": "ipython",
    "version": 3
   },
   "file_extension": ".py",
   "mimetype": "text/x-python",
   "name": "python",
   "nbconvert_exporter": "python",
   "pygments_lexer": "ipython3",
   "version": "3.12.7"
  }
 },
 "nbformat": 4,
 "nbformat_minor": 5
}
