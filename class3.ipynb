{
 "cells": [
  {
   "cell_type": "code",
   "execution_count": 63,
   "id": "6cbe2aab-6e25-4359-b546-0b81f51bb7b5",
   "metadata": {},
   "outputs": [
    {
     "name": "stderr",
     "output_type": "stream",
     "text": [
      "ERROR: Could not find a version that satisfies the requirement random (from versions: none)\n",
      "ERROR: No matching distribution found for random\n"
     ]
    }
   ],
   "source": [
    "!pip install random"
   ]
  },
  {
   "cell_type": "code",
   "execution_count": 64,
   "id": "ef2c6f23-b267-46f3-bf76-a005b65ca742",
   "metadata": {},
   "outputs": [],
   "source": [
    "import random"
   ]
  },
  {
   "cell_type": "code",
   "execution_count": 65,
   "id": "f4d9b2de-eef4-43c3-8afa-0184f1f960a1",
   "metadata": {},
   "outputs": [
    {
     "name": "stdout",
     "output_type": "stream",
     "text": [
      "I am thinking of a number between 1 and 40\n"
     ]
    }
   ],
   "source": [
    "guessnumber = random.randint(1,40)\n",
    "print('I am thinking of a number between 1 and 40')\n"
   ]
  },
  {
   "cell_type": "code",
   "execution_count": null,
   "id": "1daaed92-86be-4871-bfee-cb61237eb04b",
   "metadata": {},
   "outputs": [
    {
     "name": "stdout",
     "output_type": "stream",
     "text": [
      "Take a guess\n"
     ]
    },
    {
     "name": "stdin",
     "output_type": "stream",
     "text": [
      " 33\n"
     ]
    },
    {
     "name": "stdout",
     "output_type": "stream",
     "text": [
      "Take a guess\n"
     ]
    }
   ],
   "source": [
    "for i in range(10):\n",
    "    print('Take a guess')\n",
    "    yourguess = int(input())\n",
    "\n",
    "if yourguess < guessnumber:\n",
    "    print('Your guess is too low')\n",
    "elif yourguess > guessnumber:\n",
    "    print('Your guess is too high')\n",
    "else:\n",
    "    break\n",
    "if yourguess == guessnumber:\n",
    "    print('You guessed my number in ' + str(i) + 'guesses!')\n",
    "else:\n",
    "    print('No' + 'The number I was thinking of was' + str(guessnumber))"
   ]
  },
  {
   "cell_type": "code",
   "execution_count": null,
   "id": "76495d92-fdbe-4eb5-87b8-562f63679319",
   "metadata": {},
   "outputs": [],
   "source": []
  },
  {
   "cell_type": "code",
   "execution_count": null,
   "id": "7d0de608-22f8-47db-b588-10eee2091fe3",
   "metadata": {},
   "outputs": [],
   "source": []
  },
  {
   "cell_type": "code",
   "execution_count": null,
   "id": "cba7cd0e-ca3f-4316-9af1-c196ac6b2885",
   "metadata": {},
   "outputs": [],
   "source": []
  },
  {
   "cell_type": "code",
   "execution_count": null,
   "id": "53c5a3ee-0056-4c02-b7a8-56ce7864c017",
   "metadata": {},
   "outputs": [],
   "source": []
  },
  {
   "cell_type": "code",
   "execution_count": null,
   "id": "e2a9ce86-cfc7-4f80-8310-e7e5b2ad20f8",
   "metadata": {},
   "outputs": [],
   "source": []
  },
  {
   "cell_type": "code",
   "execution_count": null,
   "id": "06d46a61-0b6a-4875-9b5e-4e780fb452d8",
   "metadata": {},
   "outputs": [],
   "source": []
  },
  {
   "cell_type": "code",
   "execution_count": null,
   "id": "feb8a612-9f41-4865-9401-e3c08b33ec16",
   "metadata": {},
   "outputs": [],
   "source": []
  },
  {
   "cell_type": "code",
   "execution_count": null,
   "id": "a36f46e5-635f-4524-b115-7226453cf3e2",
   "metadata": {},
   "outputs": [],
   "source": []
  },
  {
   "cell_type": "code",
   "execution_count": null,
   "id": "dc1a5dbe-e2a8-42b5-ad16-e3bde93a5602",
   "metadata": {},
   "outputs": [],
   "source": []
  },
  {
   "cell_type": "code",
   "execution_count": null,
   "id": "e437b3a2-088a-4a14-a0ce-50883abcc9a1",
   "metadata": {},
   "outputs": [],
   "source": []
  }
 ],
 "metadata": {
  "kernelspec": {
   "display_name": "Python [conda env:base] *",
   "language": "python",
   "name": "conda-base-py"
  },
  "language_info": {
   "codemirror_mode": {
    "name": "ipython",
    "version": 3
   },
   "file_extension": ".py",
   "mimetype": "text/x-python",
   "name": "python",
   "nbconvert_exporter": "python",
   "pygments_lexer": "ipython3",
   "version": "3.12.7"
  }
 },
 "nbformat": 4,
 "nbformat_minor": 5
}
