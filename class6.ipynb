{
 "cells": [
  {
   "cell_type": "code",
   "execution_count": 12,
   "id": "610f2475-1854-4686-a66e-91566b26b7cd",
   "metadata": {},
   "outputs": [
    {
     "name": "stdout",
     "output_type": "stream",
     "text": [
      "Enter your pet type\n"
     ]
    },
    {
     "name": "stdin",
     "output_type": "stream",
     "text": [
      " mop\n"
     ]
    },
    {
     "name": "stdout",
     "output_type": "stream",
     "text": [
      "No, I do not have the pet mop\n"
     ]
    }
   ],
   "source": [
    "mylist = ['cat','dog','rat']\n",
    "\n",
    "print(\"Enter your pet type\")\n",
    "\n",
    "name = input()\n",
    "\n",
    "if name in mylist:\n",
    "    print(\"Yes, I have the pet\", name)\n",
    "else:\n",
    "    print(\"No, I do not have the pet\", name)"
   ]
  },
  {
   "cell_type": "code",
   "execution_count": 10,
   "id": "f91630c2-e7b4-4f8a-a239-d3abe8ca1673",
   "metadata": {},
   "outputs": [
    {
     "name": "stdout",
     "output_type": "stream",
     "text": [
      "Enter your pet type\n"
     ]
    },
    {
     "name": "stdin",
     "output_type": "stream",
     "text": [
      " jop\n"
     ]
    },
    {
     "name": "stdout",
     "output_type": "stream",
     "text": [
      "No, I do not the pet jop\n"
     ]
    }
   ],
   "source": [
    "mylist = ['cat','dog','rat']\n",
    "\n",
    "print(\"Enter your pet type\")\n",
    "\n",
    "name = input()\n",
    "\n",
    "if name not in mylist:\n",
    "    print(\"No, I do not the pet\", name)\n",
    "else:\n",
    "    print(\"Yes, I do have the pet\", name)"
   ]
  },
  {
   "cell_type": "code",
   "execution_count": 17,
   "id": "c443573f-1a24-4eb7-a91f-3f7bc4f473ba",
   "metadata": {},
   "outputs": [
    {
     "name": "stdout",
     "output_type": "stream",
     "text": [
      "index is 0 and value is  cat\n",
      "index is 1 and value is  dog\n",
      "index is 2 and value is  rat\n"
     ]
    }
   ],
   "source": [
    "mylis = ['cat','dog','rat']\n",
    "\n",
    "for i in range(len(mylist)):\n",
    "    print(\"index is\", i, \"and\", \"value is \", mylist[i])"
   ]
  },
  {
   "cell_type": "code",
   "execution_count": 19,
   "id": "f564ea35-a30f-417e-816b-16924af3e821",
   "metadata": {},
   "outputs": [
    {
     "name": "stdout",
     "output_type": "stream",
     "text": [
      "index 0 value is cat\n",
      "index 1 value is dog\n",
      "index 2 value is rat\n"
     ]
    }
   ],
   "source": [
    "for index, item in enumerate(mylist):\n",
    "    print(\"index\", str(index), \"value is\", item)"
   ]
  },
  {
   "cell_type": "code",
   "execution_count": 36,
   "id": "6ce96f82-39a9-4e60-93ae-295052540e80",
   "metadata": {},
   "outputs": [],
   "source": [
    "sumvalue = []\n",
    "\n",
    "for i in range(1,101):\n",
    "    sumvalue.append(i)\n",
    "\n"
   ]
  },
  {
   "cell_type": "code",
   "execution_count": 38,
   "id": "286ebe85-13cf-4e7e-9eee-2b388959344f",
   "metadata": {},
   "outputs": [
    {
     "data": {
      "text/plain": [
       "5050"
      ]
     },
     "execution_count": 38,
     "metadata": {},
     "output_type": "execute_result"
    }
   ],
   "source": [
    "sum(sumvalue)"
   ]
  },
  {
   "cell_type": "code",
   "execution_count": null,
   "id": "124bc595-46cc-4256-aa05-0ebb841ba831",
   "metadata": {},
   "outputs": [],
   "source": []
  }
 ],
 "metadata": {
  "kernelspec": {
   "display_name": "Python [conda env:base] *",
   "language": "python",
   "name": "conda-base-py"
  },
  "language_info": {
   "codemirror_mode": {
    "name": "ipython",
    "version": 3
   },
   "file_extension": ".py",
   "mimetype": "text/x-python",
   "name": "python",
   "nbconvert_exporter": "python",
   "pygments_lexer": "ipython3",
   "version": "3.12.7"
  }
 },
 "nbformat": 4,
 "nbformat_minor": 5
}
