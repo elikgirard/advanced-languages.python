{
 "cells": [
  {
   "cell_type": "code",
   "execution_count": 41,
   "id": "70e03e42-830d-4e93-8db5-713916722ec1",
   "metadata": {},
   "outputs": [],
   "source": [
    "import pandas as pd\n",
    "\n",
    "data = pd.read_excel(r'C:\\users\\eligi\\Downloads\\commerce_data.xlsx') #location from properties of file"
   ]
  },
  {
   "cell_type": "code",
   "execution_count": 42,
   "id": "1d1e31d2-051d-4e80-ae78-e04d296ced0c",
   "metadata": {},
   "outputs": [
    {
     "data": {
      "text/html": [
       "<div>\n",
       "<style scoped>\n",
       "    .dataframe tbody tr th:only-of-type {\n",
       "        vertical-align: middle;\n",
       "    }\n",
       "\n",
       "    .dataframe tbody tr th {\n",
       "        vertical-align: top;\n",
       "    }\n",
       "\n",
       "    .dataframe thead th {\n",
       "        text-align: right;\n",
       "    }\n",
       "</style>\n",
       "<table border=\"1\" class=\"dataframe\">\n",
       "  <thead>\n",
       "    <tr style=\"text-align: right;\">\n",
       "      <th></th>\n",
       "      <th>product_price</th>\n",
       "      <th>discount</th>\n",
       "      <th>viewer</th>\n",
       "      <th>likes</th>\n",
       "      <th>sales</th>\n",
       "    </tr>\n",
       "  </thead>\n",
       "  <tbody>\n",
       "    <tr>\n",
       "      <th>0</th>\n",
       "      <td>11700</td>\n",
       "      <td>0.29</td>\n",
       "      <td>650000</td>\n",
       "      <td>180000</td>\n",
       "      <td>11700</td>\n",
       "    </tr>\n",
       "    <tr>\n",
       "      <th>1</th>\n",
       "      <td>17400</td>\n",
       "      <td>0.44</td>\n",
       "      <td>650000</td>\n",
       "      <td>180000</td>\n",
       "      <td>87000</td>\n",
       "    </tr>\n",
       "    <tr>\n",
       "      <th>2</th>\n",
       "      <td>14000</td>\n",
       "      <td>0.47</td>\n",
       "      <td>650000</td>\n",
       "      <td>180000</td>\n",
       "      <td>8540000</td>\n",
       "    </tr>\n",
       "    <tr>\n",
       "      <th>3</th>\n",
       "      <td>29100</td>\n",
       "      <td>0.29</td>\n",
       "      <td>410000</td>\n",
       "      <td>18000</td>\n",
       "      <td>5063400</td>\n",
       "    </tr>\n",
       "    <tr>\n",
       "      <th>4</th>\n",
       "      <td>32000</td>\n",
       "      <td>NaN</td>\n",
       "      <td>350000</td>\n",
       "      <td>15000</td>\n",
       "      <td>1024000</td>\n",
       "    </tr>\n",
       "    <tr>\n",
       "      <th>...</th>\n",
       "      <td>...</td>\n",
       "      <td>...</td>\n",
       "      <td>...</td>\n",
       "      <td>...</td>\n",
       "      <td>...</td>\n",
       "    </tr>\n",
       "    <tr>\n",
       "      <th>2898</th>\n",
       "      <td>1590</td>\n",
       "      <td>0.27</td>\n",
       "      <td>1271</td>\n",
       "      <td>4509</td>\n",
       "      <td>19080</td>\n",
       "    </tr>\n",
       "    <tr>\n",
       "      <th>2899</th>\n",
       "      <td>1390</td>\n",
       "      <td>0.26</td>\n",
       "      <td>1271</td>\n",
       "      <td>4509</td>\n",
       "      <td>31970</td>\n",
       "    </tr>\n",
       "    <tr>\n",
       "      <th>2900</th>\n",
       "      <td>1390</td>\n",
       "      <td>0.26</td>\n",
       "      <td>1271</td>\n",
       "      <td>4509</td>\n",
       "      <td>111200</td>\n",
       "    </tr>\n",
       "    <tr>\n",
       "      <th>2901</th>\n",
       "      <td>990</td>\n",
       "      <td>0.34</td>\n",
       "      <td>1271</td>\n",
       "      <td>4509</td>\n",
       "      <td>124740</td>\n",
       "    </tr>\n",
       "    <tr>\n",
       "      <th>2902</th>\n",
       "      <td>65000</td>\n",
       "      <td>NaN</td>\n",
       "      <td>1141</td>\n",
       "      <td>4155</td>\n",
       "      <td>195000</td>\n",
       "    </tr>\n",
       "  </tbody>\n",
       "</table>\n",
       "<p>2903 rows × 5 columns</p>\n",
       "</div>"
      ],
      "text/plain": [
       "      product_price  discount  viewer   likes    sales\n",
       "0             11700      0.29  650000  180000    11700\n",
       "1             17400      0.44  650000  180000    87000\n",
       "2             14000      0.47  650000  180000  8540000\n",
       "3             29100      0.29  410000   18000  5063400\n",
       "4             32000       NaN  350000   15000  1024000\n",
       "...             ...       ...     ...     ...      ...\n",
       "2898           1590      0.27    1271    4509    19080\n",
       "2899           1390      0.26    1271    4509    31970\n",
       "2900           1390      0.26    1271    4509   111200\n",
       "2901            990      0.34    1271    4509   124740\n",
       "2902          65000       NaN    1141    4155   195000\n",
       "\n",
       "[2903 rows x 5 columns]"
      ]
     },
     "execution_count": 42,
     "metadata": {},
     "output_type": "execute_result"
    }
   ],
   "source": [
    "data"
   ]
  },
  {
   "cell_type": "code",
   "execution_count": 48,
   "id": "ad7d151e-767e-466e-98d1-117b745ef986",
   "metadata": {},
   "outputs": [],
   "source": [
    "import seaborn as sn\n",
    "import matplotlib.pyplot as plt"
   ]
  },
  {
   "cell_type": "code",
   "execution_count": 56,
   "id": "79a11f11-b0ac-46f7-9b1f-e8ffb98b6d92",
   "metadata": {},
   "outputs": [
    {
     "data": {
      "text/plain": [
       "<Axes: xlabel='product_price', ylabel='sales'>"
      ]
     },
     "execution_count": 56,
     "metadata": {},
     "output_type": "execute_result"
    },
    {
     "data": {
      "image/png": "[encoded data removed]",
      "text/plain": [
       "<Figure size 640x480 with 1 Axes>"
      ]
     },
     "metadata": {},
     "output_type": "display_data"
    }
   ],
   "source": [
    "sn.scatterplot(data = data, x='product_price', y='sales', color='red')"
   ]
  },
  {
   "cell_type": "code",
   "execution_count": null,
   "id": "8a7d5437-aedb-4a99-af29-334124729a5e",
   "metadata": {},
   "outputs": [],
   "source": []
  }
 ],
 "metadata": {
  "kernelspec": {
   "display_name": "Python [conda env:base] *",
   "language": "python",
   "name": "conda-base-py"
  },
  "language_info": {
   "codemirror_mode": {
    "name": "ipython",
    "version": 3
   },
   "file_extension": ".py",
   "mimetype": "text/x-python",
   "name": "python",
   "nbconvert_exporter": "python",
   "pygments_lexer": "ipython3",
   "version": "3.12.7"
  }
 },
 "nbformat": 4,
 "nbformat_minor": 5
}
