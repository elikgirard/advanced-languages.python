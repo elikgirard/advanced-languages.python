{
 "cells": [
  {
   "cell_type": "code",
   "execution_count": 1,
   "id": "388b742b-bdb6-4ed6-a3fb-2afe73c51252",
   "metadata": {},
   "outputs": [
    {
     "data": {
      "text/plain": [
       "2"
      ]
     },
     "execution_count": 1,
     "metadata": {},
     "output_type": "execute_result"
    }
   ],
   "source": [
    "2"
   ]
  },
  {
   "cell_type": "code",
   "execution_count": 3,
   "id": "0ef55160-b435-4eb4-bf66-e55cd38ad2e2",
   "metadata": {},
   "outputs": [
    {
     "ename": "NameError",
     "evalue": "name 'jang' is not defined",
     "output_type": "error",
     "traceback": [
      "\u001b[1;31m---------------------------------------------------------------------------\u001b[0m",
      "\u001b[1;31mNameError\u001b[0m                                 Traceback (most recent call last)",
      "Cell \u001b[1;32mIn[3], line 1\u001b[0m\n\u001b[1;32m----> 1\u001b[0m jang\n",
      "\u001b[1;31mNameError\u001b[0m: name 'jang' is not defined"
     ]
    }
   ],
   "source": [
    "jang"
   ]
  },
  {
   "cell_type": "code",
   "execution_count": 5,
   "id": "c7664840-12a7-4a1c-87fb-e32f48f7b1e6",
   "metadata": {},
   "outputs": [
    {
     "data": {
      "text/plain": [
       "'jang'"
      ]
     },
     "execution_count": 5,
     "metadata": {},
     "output_type": "execute_result"
    }
   ],
   "source": [
    "'jang'"
   ]
  },
  {
   "cell_type": "code",
   "execution_count": 11,
   "id": "2b5c1241-fd40-4f1c-b582-15bf61ea3cb8",
   "metadata": {},
   "outputs": [
    {
     "name": "stdout",
     "output_type": "stream",
     "text": [
      "4\n",
      "4\n",
      "4\n",
      "1.0\n",
      "0\n",
      "-5\n"
     ]
    }
   ],
   "source": [
    "print(2+2)\n",
    "print(2*2)\n",
    "print(2**2)\n",
    "print(2/2)\n",
    "print(3//9)\n",
    "print(5-10)"
   ]
  },
  {
   "cell_type": "code",
   "execution_count": 7,
   "id": "70a137fe-63dc-4e7e-beee-ac751733b2e4",
   "metadata": {},
   "outputs": [
    {
     "data": {
      "text/plain": [
       "-5"
      ]
     },
     "execution_count": 7,
     "metadata": {},
     "output_type": "execute_result"
    }
   ],
   "source": [
    "2+2\n",
    "2*2\n",
    "2**2\n",
    "2/2\n",
    "3//9\n",
    "5-10"
   ]
  },
  {
   "cell_type": "code",
   "execution_count": 15,
   "id": "1be6caee-ee5b-4380-b425-8e1392c74e94",
   "metadata": {},
   "outputs": [],
   "source": [
    "python = 1"
   ]
  },
  {
   "cell_type": "code",
   "execution_count": 17,
   "id": "8e16d432-2240-4973-8f65-83cb0496f7f1",
   "metadata": {},
   "outputs": [
    {
     "data": {
      "text/plain": [
       "2"
      ]
     },
     "execution_count": 17,
     "metadata": {},
     "output_type": "execute_result"
    }
   ],
   "source": [
    "python + int('1')"
   ]
  },
  {
   "cell_type": "code",
   "execution_count": 30,
   "id": "e965e91f-b04a-4265-8eaa-402e245d0f11",
   "metadata": {},
   "outputs": [
    {
     "name": "stdout",
     "output_type": "stream",
     "text": [
      "Hello, World!\n",
      "what is your name?\n"
     ]
    },
    {
     "name": "stdin",
     "output_type": "stream",
     "text": [
      " 6\n"
     ]
    },
    {
     "name": "stdout",
     "output_type": "stream",
     "text": [
      "It is good to meet you, 6\n"
     ]
    }
   ],
   "source": [
    "###### print(\"Hello, World!\")\n",
    "print('what is your name?')\n",
    "myname = input()\n",
    "print(\"It is good to meet you, \" + myname)"
   ]
  },
  {
   "cell_type": "code",
   "execution_count": null,
   "id": "336be17f-8fb6-433b-b50f-2ba6eef7e2eb",
   "metadata": {},
   "outputs": [],
   "source": []
  },
  {
   "cell_type": "code",
   "execution_count": null,
   "id": "dfe0e164-3fc5-4bd1-b0d3-6ad0ae3f9e78",
   "metadata": {},
   "outputs": [],
   "source": []
  },
  {
   "cell_type": "code",
   "execution_count": null,
   "id": "bb9bf68a-c0b6-4867-a4fe-cbec8c7284c7",
   "metadata": {},
   "outputs": [],
   "source": []
  }
 ],
 "metadata": {
  "kernelspec": {
   "display_name": "Python [conda env:base] *",
   "language": "python",
   "name": "conda-base-py"
  },
  "language_info": {
   "codemirror_mode": {
    "name": "ipython",
    "version": 3
   },
   "file_extension": ".py",
   "mimetype": "text/x-python",
   "name": "python",
   "nbconvert_exporter": "python",
   "pygments_lexer": "ipython3",
   "version": "3.12.7"
  }
 },
 "nbformat": 4,
 "nbformat_minor": 5
}
